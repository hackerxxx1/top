{
  "nbformat": 4,
  "nbformat_minor": 0,
  "metadata": {
    "colab": {
      "name": "Base_cmc.ipynb",
      "provenance": [],
      "collapsed_sections": [],
      "authorship_tag": "ABX9TyNOMAD8Uffxl22DWzphuUqx",
      "include_colab_link": true
    },
    "kernelspec": {
      "name": "python3",
      "display_name": "Python 3"
    },
    "language_info": {
      "name": "python"
    }
  },
  "cells": [
    {
      "cell_type": "markdown",
      "metadata": {
        "id": "view-in-github",
        "colab_type": "text"
      },
      "source": [
        "<a href=\"https://colab.research.google.com/github/hackerxxx1/top/blob/master/Base_cmc.ipynb\" target=\"_parent\"><img src=\"https://colab.research.google.com/assets/colab-badge.svg\" alt=\"Open In Colab\"/></a>"
      ]
    },
    {
      "cell_type": "code",
      "metadata": {
        "colab": {
          "base_uri": "https://localhost:8080/"
        },
        "id": "Ue4jaH_68P4I",
        "outputId": "70f82da9-5108-496a-fdd8-78897b45d7f0"
      },
      "source": [
        "!pip install plotly --upgrade"
      ],
      "execution_count": 1,
      "outputs": [
        {
          "output_type": "stream",
          "name": "stdout",
          "text": [
            "Requirement already satisfied: plotly in /usr/local/lib/python3.7/dist-packages (4.4.1)\n",
            "Collecting plotly\n",
            "  Downloading plotly-5.3.1-py2.py3-none-any.whl (23.9 MB)\n",
            "\u001b[K     |████████████████████████████████| 23.9 MB 14 kB/s \n",
            "\u001b[?25hCollecting tenacity>=6.2.0\n",
            "  Downloading tenacity-8.0.1-py3-none-any.whl (24 kB)\n",
            "Requirement already satisfied: six in /usr/local/lib/python3.7/dist-packages (from plotly) (1.15.0)\n",
            "Installing collected packages: tenacity, plotly\n",
            "  Attempting uninstall: plotly\n",
            "    Found existing installation: plotly 4.4.1\n",
            "    Uninstalling plotly-4.4.1:\n",
            "      Successfully uninstalled plotly-4.4.1\n",
            "Successfully installed plotly-5.3.1 tenacity-8.0.1\n"
          ]
        }
      ]
    },
    {
      "cell_type": "code",
      "metadata": {
        "colab": {
          "base_uri": "https://localhost:8080/"
        },
        "id": "L1_Vbia9i6Me",
        "outputId": "2bca6435-fba6-4f1b-ee14-f2e7a25ded47"
      },
      "source": [
        "import pandas as pd\n",
        "import numpy as np\n",
        "import seaborn as sns\n",
        "import matplotlib.pyplot as plt\n",
        "import plotly.express as px\n",
        "np.set_printoptions(threshold=np.inf)\n",
        "banco = pd.read_csv('cmc.csv')\n",
        "print(banco.head(10))\n",
        "print('-------------------------')\n",
        "print(banco.tail(10))\n",
        "print('-------------------------')\n",
        "print(banco.columns)"
      ],
      "execution_count": 73,
      "outputs": [
        {
          "output_type": "stream",
          "name": "stdout",
          "text": [
            "   24  2  3  3.1  1  1.1  2.1  3.2  0  1.2\n",
            "0  45  1  3   10  1    1    3    4  0    1\n",
            "1  43  2  3    7  1    1    3    4  0    1\n",
            "2  42  3  2    9  1    1    3    3  0    1\n",
            "3  36  3  3    8  1    1    3    2  0    1\n",
            "4  19  4  4    0  1    1    3    3  0    1\n",
            "5  38  2  3    6  1    1    3    2  0    1\n",
            "6  21  3  3    1  1    0    3    2  0    1\n",
            "7  27  2  3    3  1    1    3    4  0    1\n",
            "8  45  1  1    8  1    1    2    2  1    1\n",
            "9  38  1  3    2  1    0    3    3  1    1\n",
            "-------------------------\n",
            "      24  2  3  3.1  1  1.1  2.1  3.2  0  1.2\n",
            "1462  30  1  3    2  1    1    3    4  0    3\n",
            "1463  23  2  2    1  1    1    2    4  0    3\n",
            "1464  25  2  4    3  1    1    1    3  0    3\n",
            "1465  42  2  4    6  1    1    2    4  0    3\n",
            "1466  29  4  4    3  1    1    1    4  0    3\n",
            "1467  33  4  4    2  1    0    2    4  0    3\n",
            "1468  33  4  4    3  1    1    1    4  0    3\n",
            "1469  39  3  3    8  1    0    1    4  0    3\n",
            "1470  33  3  3    4  1    0    2    2  0    3\n",
            "1471  17  3  3    1  1    1    2    4  0    3\n",
            "-------------------------\n",
            "Index(['24', '2', '3', '3.1', '1', '1.1', '2.1', '3.2', '0', '1.2'], dtype='object')\n"
          ]
        }
      ]
    },
    {
      "cell_type": "code",
      "metadata": {
        "colab": {
          "base_uri": "https://localhost:8080/"
        },
        "id": "ySmk3AjRjrTj",
        "outputId": "10ce9d90-a58e-4722-9dbb-4e5e972dce9a"
      },
      "source": [
        "import pandas as pd\n",
        "import numpy as np\n",
        "import seaborn as sns\n",
        "import matplotlib.pyplot as plt\n",
        "import plotly.express as px\n",
        "np.set_printoptions(threshold=np.inf)\n",
        "banco = pd.read_csv('cmc.csv')\n",
        "print(banco.describe())"
      ],
      "execution_count": 4,
      "outputs": [
        {
          "output_type": "stream",
          "name": "stdout",
          "text": [
            "                24            2  ...            0          1.2\n",
            "count  1472.000000  1472.000000  ...  1472.000000  1472.000000\n",
            "mean     32.544158     2.959239  ...     0.074049     1.920516\n",
            "std       8.227027     1.015031  ...     0.261939     0.876345\n",
            "min      16.000000     1.000000  ...     0.000000     1.000000\n",
            "25%      26.000000     2.000000  ...     0.000000     1.000000\n",
            "50%      32.000000     3.000000  ...     0.000000     2.000000\n",
            "75%      39.000000     4.000000  ...     0.000000     3.000000\n",
            "max      49.000000     4.000000  ...     1.000000     3.000000\n",
            "\n",
            "[8 rows x 10 columns]\n"
          ]
        }
      ]
    },
    {
      "cell_type": "code",
      "metadata": {
        "colab": {
          "base_uri": "https://localhost:8080/"
        },
        "id": "_HvBDTboJOQw",
        "outputId": "e6bb51f2-724c-453e-ff8b-1c5e8cd79ee9"
      },
      "source": [
        "import pandas as pd\n",
        "import numpy as np\n",
        "import seaborn as sns\n",
        "import matplotlib.pyplot as plt\n",
        "import plotly.express as px\n",
        "np.set_printoptions(threshold=np.inf)\n",
        "banco = pd.read_csv('cmc.csv')\n",
        "banco2 = banco.iloc[:,0:14].values\n",
        "print(banco2[0])"
      ],
      "execution_count": 58,
      "outputs": [
        {
          "output_type": "stream",
          "name": "stdout",
          "text": [
            "[45  1  3 10  1  1  3  4  0  1]\n"
          ]
        }
      ]
    },
    {
      "cell_type": "code",
      "metadata": {
        "colab": {
          "base_uri": "https://localhost:8080/"
        },
        "id": "Xx8iOmVDlsuD",
        "outputId": "1e39cceb-7ebe-4d2c-9163-79c18ff0929f"
      },
      "source": [
        "import pandas as pd\n",
        "import numpy as np\n",
        "import seaborn as sns\n",
        "import matplotlib.pyplot as plt\n",
        "import plotly.express as px\n",
        "np.set_printoptions(threshold=np.inf)\n",
        "banco = pd.read_csv('cmc.csv')\n",
        "print(banco[banco['24']==45])"
      ],
      "execution_count": 12,
      "outputs": [
        {
          "output_type": "stream",
          "name": "stdout",
          "text": [
            "      24  2  3  3.1  1  1.1  2.1  3.2  0  1.2\n",
            "0     45  1  3   10  1    1    3    4  0    1\n",
            "8     45  1  1    8  1    1    2    2  1    1\n",
            "46    45  4  4    0  1    1    2    4  0    1\n",
            "76    45  3  4    3  1    1    1    4  0    1\n",
            "109   45  4  4    1  1    0    3    3  0    1\n",
            "125   45  4  4    1  1    1    1    3  0    1\n",
            "145   45  4  4    4  1    1    2    3  0    1\n",
            "157   45  1  4    5  1    1    1    2  1    1\n",
            "177   45  2  4    2  1    0    2    4  0    1\n",
            "194   45  1  2    6  1    1    3    3  1    1\n",
            "210   45  1  2    1  1    0    3    3  0    1\n",
            "226   45  1  3    1  1    1    2    3  1    1\n",
            "265   45  3  4    6  1    1    2    4  0    1\n",
            "321   45  3  4    2  0    1    1    4  0    1\n",
            "342   45  3  4    3  0    1    3    4  0    1\n",
            "409   45  2  3    4  1    0    2    4  0    1\n",
            "434   45  4  4    7  1    1    1    4  0    2\n",
            "526   45  3  3    7  1    1    3    4  0    2\n",
            "530   45  3  3    8  1    1    2    3  0    2\n",
            "601   45  4  4    3  0    1    2    4  0    2\n",
            "608   45  3  3    6  0    1    2    4  0    2\n",
            "629   45  4  4    4  1    1    1    4  0    2\n",
            "672   45  1  3    3  1    1    3    2  0    3\n",
            "920   45  3  4    2  0    1    3    3  0    3\n",
            "978   45  4  4    3  1    1    1    4  0    3\n",
            "1042  45  1  1    0  0    0    2    1  0    1\n",
            "1062  45  2  3   11  1    1    2    3  0    1\n",
            "1074  45  3  4    0  1    1    1    3  0    1\n",
            "1086  45  2  4    8  1    1    2    3  0    1\n",
            "1105  45  3  4    0  1    1    1    3  0    1\n",
            "1120  45  2  3    6  1    1    3    2  1    1\n",
            "1130  45  1  3    7  1    0    1    3  0    1\n",
            "1144  45  4  4    1  1    0    1    4  0    1\n",
            "1146  45  4  4    1  1    1    1    4  0    1\n",
            "1170  45  2  2    7  1    1    3    1  1    1\n",
            "1192  45  4  4    1  1    1    1    4  0    1\n",
            "1222  45  2  2    9  1    1    3    3  0    2\n",
            "1227  45  4  4    3  1    1    1    4  0    2\n",
            "1262  45  4  4    3  1    1    1    4  0    2\n",
            "1307  45  3  3    5  0    1    1    3  0    2\n",
            "1445  45  2  3    3  0    0    2    4  0    3\n"
          ]
        }
      ]
    },
    {
      "cell_type": "code",
      "metadata": {
        "colab": {
          "base_uri": "https://localhost:8080/"
        },
        "id": "hewprrtHBMwU",
        "outputId": "dd41600e-971d-4ade-f3ea-d00c67a56bfd"
      },
      "source": [
        "import pandas as pd\n",
        "import numpy as np\n",
        "import seaborn as sns\n",
        "import matplotlib.pyplot as plt\n",
        "import plotly.express as px\n",
        "np.set_printoptions(threshold=np.inf)\n",
        "banco = pd.read_csv('cmc.csv')\n",
        "print(banco.loc[banco['24'] == \".\"])\n",
        "print('-----------------------')\n",
        "#banco.loc[banco['24'] < 0, '24'] = banco['24'][banco['24'] > 0].mean()\n",
        "print(banco.loc[pd.isnull(banco['24'])])\n",
        "print('---------------')\n",
        "banco['24'].fillna(banco['24'].mean(), inplace = True)\n",
        "print(banco.head(30))\n",
        "#banco2 = banco.drop(banco[banco['24'] < 0].index)"
      ],
      "execution_count": 76,
      "outputs": [
        {
          "output_type": "stream",
          "name": "stdout",
          "text": [
            "Empty DataFrame\n",
            "Columns: [24, 2, 3, 3.1, 1, 1.1, 2.1, 3.2, 0, 1.2]\n",
            "Index: []\n",
            "-----------------------\n",
            "Empty DataFrame\n",
            "Columns: [24, 2, 3, 3.1, 1, 1.1, 2.1, 3.2, 0, 1.2]\n",
            "Index: []\n",
            "---------------\n",
            "    24  2  3  3.1  1  1.1  2.1  3.2  0  1.2\n",
            "0   45  1  3   10  1    1    3    4  0    1\n",
            "1   43  2  3    7  1    1    3    4  0    1\n",
            "2   42  3  2    9  1    1    3    3  0    1\n",
            "3   36  3  3    8  1    1    3    2  0    1\n",
            "4   19  4  4    0  1    1    3    3  0    1\n",
            "5   38  2  3    6  1    1    3    2  0    1\n",
            "6   21  3  3    1  1    0    3    2  0    1\n",
            "7   27  2  3    3  1    1    3    4  0    1\n",
            "8   45  1  1    8  1    1    2    2  1    1\n",
            "9   38  1  3    2  1    0    3    3  1    1\n",
            "10  42  1  4    4  1    1    1    3  0    1\n",
            "11  44  4  4    1  1    0    1    4  0    1\n",
            "12  42  2  4    1  1    0    3    3  0    1\n",
            "13  38  3  4    2  1    1    2    3  0    1\n",
            "14  26  2  4    0  1    1    4    1  0    1\n",
            "15  48  1  1    7  1    1    2    4  0    1\n",
            "16  39  2  2    6  1    1    2    4  0    1\n",
            "17  37  2  2    8  1    1    2    3  0    1\n",
            "18  39  2  1    5  1    1    2    1  1    1\n",
            "19  26  3  4    1  1    0    4    1  0    1\n",
            "20  24  3  4    0  1    0    3    1  0    1\n",
            "21  46  4  4    1  0    1    1    4  0    1\n",
            "22  39  4  4    1  1    1    1    4  0    1\n",
            "23  48  4  4    5  1    1    1    4  0    1\n",
            "24  40  2  4    8  1    1    3    3  0    1\n",
            "25  38  4  4    1  1    0    1    4  0    1\n",
            "26  29  4  4    0  1    0    1    4  0    1\n",
            "27  24  4  4    0  1    0    2    2  0    1\n",
            "28  43  1  2    8  1    1    2    4  0    1\n",
            "29  31  3  4    2  1    1    1    4  0    1\n"
          ]
        }
      ]
    },
    {
      "cell_type": "code",
      "metadata": {
        "colab": {
          "base_uri": "https://localhost:8080/",
          "height": 466
        },
        "id": "QRT2dqahMdBp",
        "outputId": "2ef9fa12-6cb7-487a-86e1-b4c0067cab18"
      },
      "source": [
        "import pandas as pd\n",
        "import numpy as np\n",
        "import seaborn as sns\n",
        "import matplotlib.pyplot as plt\n",
        "import plotly.express as px\n",
        "np.set_printoptions(threshold=np.inf)\n",
        "banco = pd.read_csv('cmc.csv')\n",
        "print(banco.isnull().sum())\n",
        "np.unique(banco['24'], return_counts=True)\n",
        "sns.countplot(x = banco['24']);"
      ],
      "execution_count": 72,
      "outputs": [
        {
          "output_type": "stream",
          "name": "stdout",
          "text": [
            "24     0\n",
            "2      0\n",
            "3      0\n",
            "3.1    0\n",
            "1      0\n",
            "1.1    0\n",
            "2.1    0\n",
            "3.2    0\n",
            "0      0\n",
            "1.2    0\n",
            "dtype: int64\n"
          ]
        },
        {
          "output_type": "display_data",
          "data": {
            "image/png": "[encoded data removed]",
            "text/plain": [
              "<Figure size 432x288 with 1 Axes>"
            ]
          },
          "metadata": {
            "needs_background": "light"
          }
        }
      ]
    },
    {
      "cell_type": "code",
      "metadata": {
        "colab": {
          "base_uri": "https://localhost:8080/",
          "height": 542
        },
        "id": "nGlikEPpH6cj",
        "outputId": "75bf412b-5aa4-4a52-d32d-ddfe62d8f196"
      },
      "source": [
        "import pandas as pd\n",
        "import numpy as np\n",
        "import seaborn as sns\n",
        "import matplotlib.pyplot as plt\n",
        "import plotly.express as px\n",
        "np.set_printoptions(threshold=np.inf)\n",
        "banco = pd.read_csv('cmc.csv')\n",
        "\n",
        "grafico = px.parallel_categories(banco, dimensions=['24', '2', '3.1'])\n",
        "grafico.show()"
      ],
      "execution_count": 56,
      "outputs": [
        {
          "output_type": "display_data",
          "data": {
            "text/html": [
              "<html>\n",
              "<head><meta charset=\"utf-8\" /></head>\n",
              "<body>\n",
              "    <div>            <script src=\"https://cdnjs.cloudflare.com/ajax/libs/mathjax/2.7.5/MathJax.js?config=TeX-AMS-MML_SVG\"></script><script type=\"text/javascript\">if (window.MathJax) {MathJax.Hub.Config({SVG: {font: \"STIX-Web\"}});}</script>                <script type=\"text/javascript\">window.PlotlyConfig = {MathJaxConfig: 'local'};</script>\n",
              "        <script src=\"https://cdn.plot.ly/plotly-2.4.2.min.js\"></script>                <div id=\"343bac9b-3b7e-4f42-802a-a99a72666d83\" class=\"plotly-graph-div\" style=\"height:525px; width:100%;\"></div>            <script type=\"text/javascript\">                                    window.PLOTLYENV=window.PLOTLYENV || {};                                    if (document.getElementById(\"343bac9b-3b7e-4f42-802a-a99a72666d83\")) {                    Plotly.newPlot(                        \"343bac9b-3b7e-4f42-802a-a99a72666d83\",                        [{\"dimensions\":[{\"label\":\"24\",\"values\":[45,43,42,36,19,38,21,27,45,38,42,44,42,38,26,48,39,37,39,26,24,46,39,48,40,38,29,24,43,31,31,26,33,24,42,43,25,42,28,28,47,48,40,28,25,32,45,26,26,31,49,40,34,36,20,43,37,21,49,42,20,47,22,27,24,44,30,23,25,47,48,29,29,21,21,29,45,33,38,24,49,24,28,30,33,25,35,27,24,25,46,26,38,47,41,41,28,17,27,27,19,27,26,23,40,22,44,29,26,45,32,21,31,21,37,34,44,49,26,38,36,26,20,44,31,45,36,43,25,48,30,48,28,26,26,24,21,30,20,33,30,47,35,30,33,45,41,32,43,44,21,44,23,47,47,35,32,45,22,23,30,44,40,34,37,49,26,22,20,47,49,22,22,25,32,28,30,45,49,34,25,42,48,35,33,20,36,19,27,30,31,44,24,18,45,25,36,30,32,42,22,36,27,40,22,26,31,32,34,40,45,26,48,43,27,42,34,32,31,22,27,37,22,47,32,37,45,47,28,48,26,21,20,39,27,37,24,39,20,19,40,41,22,32,34,34,23,27,46,34,33,25,26,48,36,38,44,44,39,47,43,29,22,31,22,45,42,38,47,30,28,25,49,23,35,47,35,44,48,43,21,22,41,29,44,22,23,22,35,24,36,47,40,29,49,49,47,28,26,29,29,25,24,23,23,44,39,21,22,47,36,25,40,36,37,28,30,16,32,40,40,45,21,28,25,44,35,49,39,32,35,21,47,27,31,34,30,25,28,30,42,23,45,21,28,33,32,25,25,19,40,24,32,35,27,23,22,49,25,18,43,37,30,29,20,42,23,34,23,38,37,17,39,49,23,40,32,18,46,37,38,37,25,38,39,44,19,28,20,33,33,47,25,29,37,49,48,19,46,39,30,40,43,29,23,24,47,35,19,45,42,47,25,20,33,46,35,26,36,37,44,32,25,42,30,39,26,30,38,23,18,25,37,20,45,28,33,28,30,32,48,46,32,49,33,39,35,36,20,23,26,25,31,36,32,36,40,46,42,39,34,36,37,36,38,27,37,24,42,31,34,34,36,47,34,44,21,42,44,19,35,24,32,31,47,38,40,35,26,23,40,37,39,25,48,31,26,44,29,36,29,37,28,40,33,22,35,32,35,29,23,35,36,32,30,36,33,33,43,35,38,25,26,24,22,33,45,29,47,36,45,47,43,44,24,28,34,31,27,27,26,36,35,38,44,25,25,41,41,24,33,29,47,28,21,32,30,37,29,38,49,41,43,47,22,27,34,42,39,36,21,36,25,41,32,41,43,35,24,43,48,28,24,42,39,24,33,29,44,17,35,32,27,44,42,40,44,33,35,31,37,45,26,40,30,36,33,41,45,48,35,37,46,38,30,42,35,34,37,38,30,46,31,41,41,32,44,39,39,45,33,39,44,34,33,34,27,47,25,24,41,29,27,40,30,24,36,17,28,27,21,30,48,29,29,20,28,32,27,25,43,35,30,29,33,37,27,33,35,20,26,24,45,34,49,33,33,24,30,27,23,35,35,40,29,33,36,36,41,38,29,19,34,26,22,42,27,27,39,21,36,29,29,22,20,33,27,25,25,32,39,31,26,30,43,34,43,32,41,32,46,40,21,32,25,24,21,22,32,30,25,31,19,33,24,19,27,32,32,29,23,34,27,37,26,31,44,35,23,24,24,39,33,24,35,35,34,48,28,26,43,28,22,26,30,38,44,25,34,26,20,39,27,32,48,39,37,33,32,25,37,40,38,36,27,22,22,30,20,34,31,30,44,24,19,28,27,29,37,32,21,33,23,36,33,35,25,29,23,19,35,25,40,17,25,24,23,25,30,31,26,28,30,29,24,26,25,35,22,19,29,21,21,41,37,27,26,37,25,32,34,23,28,24,32,22,25,25,38,33,41,29,22,29,26,28,27,29,24,29,38,23,20,32,25,26,23,23,28,22,28,26,26,24,29,29,42,27,35,21,21,22,28,22,23,28,30,25,33,33,30,22,38,35,34,39,47,38,43,21,30,27,22,25,22,28,25,26,31,32,35,24,28,36,47,26,22,30,41,19,45,35,21,32,32,46,41,36,37,37,35,29,28,46,34,43,28,28,34,27,36,17,21,25,23,25,35,32,37,31,25,26,39,21,35,20,40,41,36,40,32,24,20,32,22,30,31,35,38,31,25,30,22,31,29,29,38,22,45,26,37,36,33,32,35,25,31,25,26,23,28,34,46,25,21,25,28,36,46,35,41,27,25,23,48,23,31,49,42,26,21,29,38,25,22,20,35,32,38,27,41,28,23,27,33,39,41,40,43,35,32,49,47,42,48,42,37,23,24,43,24,29,45,31,44,28,28,33,43,34,36,22,35,25,43,46,27,30,25,42,30,27,45,29,36,49,47,30,24,48,47,24,48,38,45,43,33,37,36,25,49,30,35,28,30,27,45,46,28,21,20,28,25,38,20,24,39,25,23,24,26,20,31,22,36,45,47,30,35,34,28,18,25,27,21,19,26,28,38,39,45,30,47,38,42,31,44,42,28,34,45,43,28,27,26,26,37,48,47,22,48,42,32,33,45,26,45,25,36,31,22,46,26,25,20,31,36,47,43,20,24,33,41,48,32,38,48,34,31,46,45,34,16,18,22,32,41,22,23,22,40,29,42,29,31,28,21,26,37,24,25,22,45,47,28,24,34,47,31,26,25,47,48,38,32,47,27,40,46,33,49,21,31,42,35,31,42,49,21,28,22,36,45,40,30,35,26,45,27,32,27,28,30,34,26,44,29,26,41,32,23,38,22,34,38,21,43,44,24,27,34,29,26,37,21,47,41,29,25,33,23,32,45,37,35,37,35,23,38,41,35,29,26,22,30,36,26,32,39,29,40,43,44,24,42,33,24,28,32,26,27,41,28,23,31,33,35,39,27,48,25,38,48,34,36,34,42,45,37,38,42,42,41,43,34,44,41,36,34,32,34,24,21,38,39,35,30,17,32,43,31,24,26,35,46,29,21,31,24,24,36,37,37,37,44,35,25,21,24,16,21,25,26,43,24,30,30,26,29,24,29,29,22,30,24,25,44,28,22,30,25,25,33,33,26,29,32,30,37,31,36,36,26,36,28,33,25,31,38,35,33,30,20,18,30,35,22,28,21,27,30,25,26,37,47,36,36,36,28,21,25,30,22,23,36,28,46,47,41,44,34,37,34,22,33,21,31,41,30,32,27,26,42,24,37,30,27,34,32,28,29,42,21,22,36,45,34,35,19,27,37,26,28,31,32,40,27,27,37,22,27,21,30,23,25,42,29,33,33,39,33,17]},{\"label\":\"2\",\"values\":[1,2,3,3,4,2,3,2,1,1,1,4,2,3,2,1,2,2,2,3,3,4,4,4,2,4,4,4,1,3,4,2,2,2,1,1,3,2,2,1,2,2,4,2,1,4,4,4,4,4,4,3,4,2,2,4,3,2,4,3,2,1,2,2,2,4,2,3,4,2,2,2,2,3,3,4,3,2,4,4,4,2,4,4,4,4,4,2,2,2,2,2,2,1,1,2,4,2,2,1,2,2,4,2,3,4,3,2,2,4,3,4,2,3,4,4,3,4,2,1,2,3,2,2,3,4,2,1,3,3,4,1,3,4,3,4,3,4,4,4,4,4,4,2,4,4,4,4,4,4,1,3,4,1,1,4,2,1,2,1,4,1,3,4,3,3,4,4,3,4,2,2,3,3,2,4,2,2,2,4,2,1,2,3,2,2,2,3,3,1,3,1,3,3,1,2,3,1,2,1,2,2,2,3,2,2,3,4,2,3,1,3,1,1,3,3,3,3,3,2,3,1,1,4,4,3,1,1,3,1,2,3,2,1,2,2,4,3,3,3,3,1,4,3,4,4,4,4,3,4,4,3,4,1,4,3,1,2,3,1,1,3,3,2,4,3,3,3,1,4,3,3,2,3,3,2,2,3,4,2,2,4,3,2,4,4,2,2,1,4,4,1,4,4,3,3,4,4,4,1,4,3,2,4,4,1,3,3,3,3,3,1,4,2,2,1,3,3,2,4,1,3,1,4,4,1,4,4,3,3,1,1,4,4,2,4,4,4,3,2,3,4,3,4,4,4,1,2,3,2,1,2,2,2,2,2,2,2,2,3,3,1,2,3,2,3,4,2,3,3,2,2,3,1,3,3,2,2,1,3,2,2,2,2,4,4,4,2,2,4,4,1,3,4,4,1,1,2,1,1,3,2,1,3,3,2,3,3,3,2,2,1,2,2,3,4,4,4,3,3,2,4,2,2,4,4,1,2,4,4,3,3,4,3,4,2,2,2,2,4,4,4,4,4,2,4,4,4,3,4,2,3,4,4,3,4,4,4,4,4,4,4,4,4,4,3,4,1,2,4,2,4,4,4,4,4,4,4,4,4,1,4,3,3,3,4,4,3,3,4,4,4,4,4,4,4,4,4,4,2,4,2,3,2,4,4,3,4,4,4,3,4,4,4,4,4,4,3,2,3,4,3,3,4,3,2,3,4,2,3,3,4,3,4,2,4,4,3,4,3,4,3,4,4,4,4,4,4,3,4,4,4,4,4,2,3,3,4,4,4,3,3,3,1,4,4,3,3,4,4,4,3,2,4,4,4,4,4,4,4,4,4,4,4,4,4,4,4,4,4,3,3,4,4,4,4,4,4,2,4,4,4,4,3,4,3,3,4,3,4,4,4,4,4,3,4,2,4,4,4,3,4,4,4,4,4,4,4,4,4,4,4,4,3,3,2,3,1,2,3,4,3,2,3,2,4,4,2,1,2,3,2,4,2,4,3,4,2,3,2,4,4,4,1,3,3,2,2,2,3,2,3,1,3,4,4,3,3,2,2,4,4,4,4,3,3,4,4,4,3,2,4,2,2,4,4,3,4,4,4,2,1,2,3,2,3,3,4,4,2,3,3,4,3,3,2,4,4,4,4,4,3,4,4,4,4,2,4,4,4,1,3,2,2,2,3,2,4,4,1,3,2,2,4,3,2,4,3,4,2,4,4,3,2,4,4,4,3,4,4,3,2,3,3,3,4,4,4,4,4,4,4,3,4,3,4,4,4,4,4,4,4,4,4,3,1,2,3,2,4,3,3,3,3,4,4,4,3,4,2,2,2,2,2,2,4,2,2,3,3,1,3,3,3,2,3,4,2,1,1,3,3,3,3,1,3,3,4,4,4,2,3,3,1,2,4,2,4,3,4,1,4,3,3,2,1,3,2,2,2,4,3,3,3,3,2,4,2,3,3,3,3,4,1,2,1,1,4,3,4,2,3,2,4,4,3,4,4,3,3,1,3,3,3,3,3,4,3,4,3,4,2,3,4,2,4,4,4,4,3,3,3,4,1,1,4,3,4,3,1,2,2,4,4,4,4,3,4,4,4,3,1,2,1,3,2,1,4,3,3,4,2,4,4,4,3,4,3,4,2,1,2,3,2,2,2,1,3,2,3,3,3,1,3,3,2,2,3,2,2,4,3,3,4,2,3,4,3,4,4,4,4,1,4,4,2,4,3,4,3,4,4,4,4,4,4,4,2,3,2,3,3,3,4,2,2,2,2,1,2,3,2,4,2,1,4,3,4,2,2,2,3,1,4,4,3,4,2,2,1,2,3,4,4,4,2,2,2,3,3,3,2,2,4,4,4,4,3,3,2,3,2,1,4,1,2,3,1,4,3,1,4,2,4,1,1,3,1,4,4,1,3,2,3,1,1,1,4,2,1,1,3,3,1,3,4,1,3,2,3,4,4,4,2,4,4,2,3,1,2,3,3,3,1,3,3,3,1,3,4,4,3,3,4,2,3,2,2,4,2,4,3,2,3,4,4,4,4,1,2,2,3,2,2,3,4,1,4,4,2,1,4,3,3,2,3,3,3,2,2,4,1,4,4,4,2,4,3,4,3,3,4,2,3,4,3,3,3,3,3,4,2,3,3,4,3,3,1,1,1,2,3,2,3,2,2,1,3,3,3,2,3,4,3,3,4,2,4,3,3,4,2,4,4,4,2,3,2,3,1,4,1,1,2,1,1,4,1,4,3,1,2,4,4,4,4,4,3,4,3,4,4,2,4,2,4,2,4,3,4,4,4,4,4,3,1,4,3,4,3,3,2,4,3,3,4,1,3,4,4,3,3,4,4,3,4,4,3,4,4,4,4,4,4,2,4,4,4,2,4,1,4,3,3,2,4,3,4,4,3,4,3,3,4,4,3,4,3,2,2,4,3,3,4,2,4,4,3,4,4,3,4,4,4,3,4,4,3,4,4,3,2,4,4,4,2,4,4,1,3,3,4,3,4,4,2,2,3,2,4,2,1,2,3,3,2,3,4,4,2,4,2,3,3,4,2,4,4,1,2,3,2,4,4,4,3,2,4,2,3,3,1,4,3,4,4,4,2,3,2,3,4,4,3,3,3,3,4,4,1,1,2,3,4,4,4,3,4,4,1,4,2,3,3,3,2,3,2,3,3,3,3,4,2,1,1,2,4,4,4,4,3,3,4,3,4,2,4,1,4,2,2,4,2,2,3,4,4,4,2,4,4,4,4,4,2,4,2,3,4,3,4,2,4,4,2,4,2,4,4,2,3,1,3,2,2,3,2,4,4,4,4,1,2,2,2,4,4,4,3,3,3]},{\"label\":\"3.1\",\"values\":[10,7,9,8,0,6,1,3,8,2,4,1,1,2,0,7,6,8,5,1,0,1,1,5,8,1,0,0,8,2,2,0,2,1,9,8,4,3,1,3,0,2,2,1,1,2,0,1,0,0,7,8,1,5,2,5,7,0,6,10,1,2,1,1,1,8,3,2,1,4,8,1,1,0,1,0,3,2,1,0,6,1,0,2,2,1,3,4,3,0,6,3,1,3,10,1,5,3,5,4,0,3,4,2,3,0,4,2,3,1,7,1,4,0,1,3,1,5,2,1,5,2,1,3,2,1,2,2,0,3,0,8,1,1,3,2,2,2,1,2,0,1,2,2,3,4,2,1,5,3,4,2,2,4,7,2,4,5,2,3,0,0,1,4,1,5,1,0,0,4,8,1,2,2,0,0,4,2,10,2,1,12,3,5,1,0,4,2,3,4,3,11,2,0,6,3,6,5,2,11,0,2,2,1,2,0,0,1,3,1,1,3,5,8,2,1,8,4,2,1,0,2,0,4,4,2,1,8,0,4,1,0,1,5,1,5,1,6,1,1,4,4,2,4,2,2,2,1,11,3,5,1,1,4,2,2,7,1,1,7,5,3,0,5,0,6,10,7,6,2,1,1,6,2,1,5,0,6,3,6,2,0,5,2,5,0,4,0,0,1,4,2,3,1,6,9,2,3,1,7,0,1,2,1,2,2,6,0,2,3,2,2,2,0,5,2,5,1,4,3,2,2,0,1,1,4,2,4,1,1,0,1,1,1,8,0,3,0,3,4,8,0,3,1,1,1,4,3,1,2,6,2,1,8,1,2,4,0,0,1,4,0,2,0,3,3,1,7,6,5,4,1,3,0,2,3,5,1,8,6,5,2,1,5,2,3,0,1,1,0,5,6,0,0,2,6,8,0,3,2,5,8,1,4,2,3,2,2,1,4,2,1,2,3,6,5,4,2,5,3,4,2,6,7,2,4,2,3,4,1,1,3,2,1,7,2,3,2,1,4,7,2,2,10,6,3,5,3,1,1,2,1,1,2,2,3,3,4,8,4,2,3,3,4,2,1,8,1,8,3,2,4,4,8,3,6,1,6,4,1,7,1,7,2,11,6,4,4,3,3,6,3,5,2,4,3,1,5,1,6,2,7,3,6,4,1,5,3,5,2,2,2,3,2,4,4,3,5,13,6,5,4,2,1,1,5,7,2,7,6,8,6,2,7,2,2,5,4,3,1,1,7,4,6,7,1,2,4,5,1,3,3,4,4,1,6,2,5,4,3,11,5,5,10,1,1,2,4,3,3,1,4,1,4,4,4,3,3,2,6,7,2,1,3,3,1,5,2,5,1,3,5,2,4,5,6,3,5,3,2,3,3,2,2,1,3,3,5,6,6,3,4,3,4,7,7,6,6,4,6,2,4,3,6,7,2,4,4,5,4,3,3,3,6,5,8,5,8,3,5,4,4,5,5,6,1,2,1,4,1,1,4,16,3,2,2,1,5,1,1,3,2,1,3,8,5,3,3,6,2,3,2,3,4,13,5,8,3,4,4,1,4,1,2,1,3,6,4,1,3,3,1,2,3,1,7,2,2,1,1,7,5,4,2,1,4,3,3,2,4,2,3,4,7,5,4,3,3,5,3,4,3,1,3,1,1,1,1,4,2,2,6,1,7,2,3,5,2,2,5,1,7,1,4,4,7,11,4,2,2,2,3,4,2,4,6,2,3,1,1,8,5,3,3,4,5,8,1,3,3,2,2,4,2,8,4,3,2,3,2,3,4,6,4,3,2,2,3,2,2,5,3,5,3,2,5,1,3,3,8,1,7,2,5,3,2,4,4,1,1,6,3,6,1,3,1,1,3,4,3,2,2,3,5,4,2,3,3,1,1,5,2,1,9,3,3,2,6,3,3,4,2,2,1,4,3,1,2,3,2,8,4,1,6,3,3,1,2,2,3,7,2,1,4,2,3,3,3,5,3,4,3,2,3,3,4,5,2,5,1,1,1,4,1,1,2,3,3,4,6,2,1,2,2,4,2,4,2,5,1,2,2,1,3,2,4,2,2,3,4,6,5,2,3,5,2,2,2,5,1,2,5,1,6,5,6,6,3,3,4,3,4,2,4,3,2,3,3,6,4,6,0,1,1,2,1,4,4,5,4,3,4,2,2,9,1,5,7,8,3,3,4,1,4,3,4,3,5,2,1,2,2,2,3,3,3,3,2,3,3,3,3,2,3,4,1,3,5,5,3,3,3,9,1,3,4,6,11,9,6,11,1,0,2,1,0,2,1,2,3,1,4,12,2,0,0,1,1,3,4,1,0,1,1,2,5,5,8,10,6,0,4,4,1,4,3,2,1,0,3,2,0,0,3,9,1,1,0,6,4,2,0,8,1,8,8,2,7,1,1,1,4,11,2,1,8,7,4,2,6,2,1,5,8,0,3,5,7,6,3,6,1,5,0,0,2,8,5,0,0,2,5,1,6,1,2,1,1,4,1,3,2,1,0,6,0,7,1,3,9,1,1,2,0,1,1,0,5,4,10,6,4,2,6,5,2,2,3,2,6,7,5,0,0,1,1,4,11,12,1,1,12,3,3,1,1,1,1,3,2,2,10,3,1,0,3,3,5,2,0,4,3,3,4,1,4,8,4,6,7,7,4,1,1,1,2,3,2,0,0,6,1,0,2,1,3,0,2,0,2,0,0,1,1,5,4,6,5,2,1,3,4,8,10,4,2,3,0,6,3,5,3,0,4,3,4,6,4,1,3,1,3,9,4,7,5,2,3,2,4,3,2,3,4,3,2,3,2,8,4,1,4,1,3,7,1,4,9,1,1,4,2,1,7,3,4,3,3,1,2,1,4,3,4,4,3,5,1,8,4,9,3,2,2,5,3,3,2,3,3,5,6,6,2,3,2,1,2,5,4,1,3,2,1,4,3,5,5,2,3,2,4,7,4,4,3,4,5,4,3,4,5,6,5,2,1,4,3,5,5,6,2,1,9,3,6,7,1,3,5,4,3,3,4,4,3,1,5,2,3,4,9,6,11,4,6,3,2,3,1,1,2,1,2,1,3,3,2,4,4,2,1,1,4,1,2,5,3,1,6,3,2,2,4,2,5,4,1,1,4,4,7,2,3,1,5,2,2,4,5,3,2,2,1,3,6,2,7,1,4,3,2,3,5,9,5,6,3,4,2,2,3,3,2,9,2,5,5,5,5,3,6,2,2,4,3,4,5,4,5,2,1,5,1,6,5,1,6,5,1,1,3,0,2,3,3,2,5,1,4,4,4,5,5,6,4,5,3,5,1,4,1,2,1,3,6,3,2,3,8,4,1]}],\"domain\":{\"x\":[0.0,1.0],\"y\":[0.0,1.0]},\"name\":\"\",\"type\":\"parcats\"}],                        {\"legend\":{\"tracegroupgap\":0},\"margin\":{\"t\":60},\"template\":{\"data\":{\"bar\":[{\"error_x\":{\"color\":\"#2a3f5f\"},\"error_y\":{\"color\":\"#2a3f5f\"},\"marker\":{\"line\":{\"color\":\"#E5ECF6\",\"width\":0.5},\"pattern\":{\"fillmode\":\"overlay\",\"size\":10,\"solidity\":0.2}},\"type\":\"bar\"}],\"barpolar\":[{\"marker\":{\"line\":{\"color\":\"#E5ECF6\",\"width\":0.5},\"pattern\":{\"fillmode\":\"overlay\",\"size\":10,\"solidity\":0.2}},\"type\":\"barpolar\"}],\"carpet\":[{\"aaxis\":{\"endlinecolor\":\"#2a3f5f\",\"gridcolor\":\"white\",\"linecolor\":\"white\",\"minorgridcolor\":\"white\",\"startlinecolor\":\"#2a3f5f\"},\"baxis\":{\"endlinecolor\":\"#2a3f5f\",\"gridcolor\":\"white\",\"linecolor\":\"white\",\"minorgridcolor\":\"white\",\"startlinecolor\":\"#2a3f5f\"},\"type\":\"carpet\"}],\"choropleth\":[{\"colorbar\":{\"outlinewidth\":0,\"ticks\":\"\"},\"type\":\"choropleth\"}],\"contour\":[{\"colorbar\":{\"outlinewidth\":0,\"ticks\":\"\"},\"colorscale\":[[0.0,\"#0d0887\"],[0.1111111111111111,\"#46039f\"],[0.2222222222222222,\"#7201a8\"],[0.3333333333333333,\"#9c179e\"],[0.4444444444444444,\"#bd3786\"],[0.5555555555555556,\"#d8576b\"],[0.6666666666666666,\"#ed7953\"],[0.7777777777777778,\"#fb9f3a\"],[0.8888888888888888,\"#fdca26\"],[1.0,\"#f0f921\"]],\"type\":\"contour\"}],\"contourcarpet\":[{\"colorbar\":{\"outlinewidth\":0,\"ticks\":\"\"},\"type\":\"contourcarpet\"}],\"heatmap\":[{\"colorbar\":{\"outlinewidth\":0,\"ticks\":\"\"},\"colorscale\":[[0.0,\"#0d0887\"],[0.1111111111111111,\"#46039f\"],[0.2222222222222222,\"#7201a8\"],[0.3333333333333333,\"#9c179e\"],[0.4444444444444444,\"#bd3786\"],[0.5555555555555556,\"#d8576b\"],[0.6666666666666666,\"#ed7953\"],[0.7777777777777778,\"#fb9f3a\"],[0.8888888888888888,\"#fdca26\"],[1.0,\"#f0f921\"]],\"type\":\"heatmap\"}],\"heatmapgl\":[{\"colorbar\":{\"outlinewidth\":0,\"ticks\":\"\"},\"colorscale\":[[0.0,\"#0d0887\"],[0.1111111111111111,\"#46039f\"],[0.2222222222222222,\"#7201a8\"],[0.3333333333333333,\"#9c179e\"],[0.4444444444444444,\"#bd3786\"],[0.5555555555555556,\"#d8576b\"],[0.6666666666666666,\"#ed7953\"],[0.7777777777777778,\"#fb9f3a\"],[0.8888888888888888,\"#fdca26\"],[1.0,\"#f0f921\"]],\"type\":\"heatmapgl\"}],\"histogram\":[{\"marker\":{\"pattern\":{\"fillmode\":\"overlay\",\"size\":10,\"solidity\":0.2}},\"type\":\"histogram\"}],\"histogram2d\":[{\"colorbar\":{\"outlinewidth\":0,\"ticks\":\"\"},\"colorscale\":[[0.0,\"#0d0887\"],[0.1111111111111111,\"#46039f\"],[0.2222222222222222,\"#7201a8\"],[0.3333333333333333,\"#9c179e\"],[0.4444444444444444,\"#bd3786\"],[0.5555555555555556,\"#d8576b\"],[0.6666666666666666,\"#ed7953\"],[0.7777777777777778,\"#fb9f3a\"],[0.8888888888888888,\"#fdca26\"],[1.0,\"#f0f921\"]],\"type\":\"histogram2d\"}],\"histogram2dcontour\":[{\"colorbar\":{\"outlinewidth\":0,\"ticks\":\"\"},\"colorscale\":[[0.0,\"#0d0887\"],[0.1111111111111111,\"#46039f\"],[0.2222222222222222,\"#7201a8\"],[0.3333333333333333,\"#9c179e\"],[0.4444444444444444,\"#bd3786\"],[0.5555555555555556,\"#d8576b\"],[0.6666666666666666,\"#ed7953\"],[0.7777777777777778,\"#fb9f3a\"],[0.8888888888888888,\"#fdca26\"],[1.0,\"#f0f921\"]],\"type\":\"histogram2dcontour\"}],\"mesh3d\":[{\"colorbar\":{\"outlinewidth\":0,\"ticks\":\"\"},\"type\":\"mesh3d\"}],\"parcoords\":[{\"line\":{\"colorbar\":{\"outlinewidth\":0,\"ticks\":\"\"}},\"type\":\"parcoords\"}],\"pie\":[{\"automargin\":true,\"type\":\"pie\"}],\"scatter\":[{\"marker\":{\"colorbar\":{\"outlinewidth\":0,\"ticks\":\"\"}},\"type\":\"scatter\"}],\"scatter3d\":[{\"line\":{\"colorbar\":{\"outlinewidth\":0,\"ticks\":\"\"}},\"marker\":{\"colorbar\":{\"outlinewidth\":0,\"ticks\":\"\"}},\"type\":\"scatter3d\"}],\"scattercarpet\":[{\"marker\":{\"colorbar\":{\"outlinewidth\":0,\"ticks\":\"\"}},\"type\":\"scattercarpet\"}],\"scattergeo\":[{\"marker\":{\"colorbar\":{\"outlinewidth\":0,\"ticks\":\"\"}},\"type\":\"scattergeo\"}],\"scattergl\":[{\"marker\":{\"colorbar\":{\"outlinewidth\":0,\"ticks\":\"\"}},\"type\":\"scattergl\"}],\"scattermapbox\":[{\"marker\":{\"colorbar\":{\"outlinewidth\":0,\"ticks\":\"\"}},\"type\":\"scattermapbox\"}],\"scatterpolar\":[{\"marker\":{\"colorbar\":{\"outlinewidth\":0,\"ticks\":\"\"}},\"type\":\"scatterpolar\"}],\"scatterpolargl\":[{\"marker\":{\"colorbar\":{\"outlinewidth\":0,\"ticks\":\"\"}},\"type\":\"scatterpolargl\"}],\"scatterternary\":[{\"marker\":{\"colorbar\":{\"outlinewidth\":0,\"ticks\":\"\"}},\"type\":\"scatterternary\"}],\"surface\":[{\"colorbar\":{\"outlinewidth\":0,\"ticks\":\"\"},\"colorscale\":[[0.0,\"#0d0887\"],[0.1111111111111111,\"#46039f\"],[0.2222222222222222,\"#7201a8\"],[0.3333333333333333,\"#9c179e\"],[0.4444444444444444,\"#bd3786\"],[0.5555555555555556,\"#d8576b\"],[0.6666666666666666,\"#ed7953\"],[0.7777777777777778,\"#fb9f3a\"],[0.8888888888888888,\"#fdca26\"],[1.0,\"#f0f921\"]],\"type\":\"surface\"}],\"table\":[{\"cells\":{\"fill\":{\"color\":\"#EBF0F8\"},\"line\":{\"color\":\"white\"}},\"header\":{\"fill\":{\"color\":\"#C8D4E3\"},\"line\":{\"color\":\"white\"}},\"type\":\"table\"}]},\"layout\":{\"annotationdefaults\":{\"arrowcolor\":\"#2a3f5f\",\"arrowhead\":0,\"arrowwidth\":1},\"autotypenumbers\":\"strict\",\"coloraxis\":{\"colorbar\":{\"outlinewidth\":0,\"ticks\":\"\"}},\"colorscale\":{\"diverging\":[[0,\"#8e0152\"],[0.1,\"#c51b7d\"],[0.2,\"#de77ae\"],[0.3,\"#f1b6da\"],[0.4,\"#fde0ef\"],[0.5,\"#f7f7f7\"],[0.6,\"#e6f5d0\"],[0.7,\"#b8e186\"],[0.8,\"#7fbc41\"],[0.9,\"#4d9221\"],[1,\"#276419\"]],\"sequential\":[[0.0,\"#0d0887\"],[0.1111111111111111,\"#46039f\"],[0.2222222222222222,\"#7201a8\"],[0.3333333333333333,\"#9c179e\"],[0.4444444444444444,\"#bd3786\"],[0.5555555555555556,\"#d8576b\"],[0.6666666666666666,\"#ed7953\"],[0.7777777777777778,\"#fb9f3a\"],[0.8888888888888888,\"#fdca26\"],[1.0,\"#f0f921\"]],\"sequentialminus\":[[0.0,\"#0d0887\"],[0.1111111111111111,\"#46039f\"],[0.2222222222222222,\"#7201a8\"],[0.3333333333333333,\"#9c179e\"],[0.4444444444444444,\"#bd3786\"],[0.5555555555555556,\"#d8576b\"],[0.6666666666666666,\"#ed7953\"],[0.7777777777777778,\"#fb9f3a\"],[0.8888888888888888,\"#fdca26\"],[1.0,\"#f0f921\"]]},\"colorway\":[\"#636efa\",\"#EF553B\",\"#00cc96\",\"#ab63fa\",\"#FFA15A\",\"#19d3f3\",\"#FF6692\",\"#B6E880\",\"#FF97FF\",\"#FECB52\"],\"font\":{\"color\":\"#2a3f5f\"},\"geo\":{\"bgcolor\":\"white\",\"lakecolor\":\"white\",\"landcolor\":\"#E5ECF6\",\"showlakes\":true,\"showland\":true,\"subunitcolor\":\"white\"},\"hoverlabel\":{\"align\":\"left\"},\"hovermode\":\"closest\",\"mapbox\":{\"style\":\"light\"},\"paper_bgcolor\":\"white\",\"plot_bgcolor\":\"#E5ECF6\",\"polar\":{\"angularaxis\":{\"gridcolor\":\"white\",\"linecolor\":\"white\",\"ticks\":\"\"},\"bgcolor\":\"#E5ECF6\",\"radialaxis\":{\"gridcolor\":\"white\",\"linecolor\":\"white\",\"ticks\":\"\"}},\"scene\":{\"xaxis\":{\"backgroundcolor\":\"#E5ECF6\",\"gridcolor\":\"white\",\"gridwidth\":2,\"linecolor\":\"white\",\"showbackground\":true,\"ticks\":\"\",\"zerolinecolor\":\"white\"},\"yaxis\":{\"backgroundcolor\":\"#E5ECF6\",\"gridcolor\":\"white\",\"gridwidth\":2,\"linecolor\":\"white\",\"showbackground\":true,\"ticks\":\"\",\"zerolinecolor\":\"white\"},\"zaxis\":{\"backgroundcolor\":\"#E5ECF6\",\"gridcolor\":\"white\",\"gridwidth\":2,\"linecolor\":\"white\",\"showbackground\":true,\"ticks\":\"\",\"zerolinecolor\":\"white\"}},\"shapedefaults\":{\"line\":{\"color\":\"#2a3f5f\"}},\"ternary\":{\"aaxis\":{\"gridcolor\":\"white\",\"linecolor\":\"white\",\"ticks\":\"\"},\"baxis\":{\"gridcolor\":\"white\",\"linecolor\":\"white\",\"ticks\":\"\"},\"bgcolor\":\"#E5ECF6\",\"caxis\":{\"gridcolor\":\"white\",\"linecolor\":\"white\",\"ticks\":\"\"}},\"title\":{\"x\":0.05},\"xaxis\":{\"automargin\":true,\"gridcolor\":\"white\",\"linecolor\":\"white\",\"ticks\":\"\",\"title\":{\"standoff\":15},\"zerolinecolor\":\"white\",\"zerolinewidth\":2},\"yaxis\":{\"automargin\":true,\"gridcolor\":\"white\",\"linecolor\":\"white\",\"ticks\":\"\",\"title\":{\"standoff\":15},\"zerolinecolor\":\"white\",\"zerolinewidth\":2}}}},                        {\"responsive\": true}                    ).then(function(){\n",
              "                            \n",
              "var gd = document.getElementById('343bac9b-3b7e-4f42-802a-a99a72666d83');\n",
              "var x = new MutationObserver(function (mutations, observer) {{\n",
              "        var display = window.getComputedStyle(gd).display;\n",
              "        if (!display || display === 'none') {{\n",
              "            console.log([gd, 'removed!']);\n",
              "            Plotly.purge(gd);\n",
              "            observer.disconnect();\n",
              "        }}\n",
              "}});\n",
              "\n",
              "// Listen for the removal of the full notebook cells\n",
              "var notebookContainer = gd.closest('#notebook-container');\n",
              "if (notebookContainer) {{\n",
              "    x.observe(notebookContainer, {childList: true});\n",
              "}}\n",
              "\n",
              "// Listen for the clearing of the current output cell\n",
              "var outputEl = gd.closest('.output');\n",
              "if (outputEl) {{\n",
              "    x.observe(outputEl, {childList: true});\n",
              "}}\n",
              "\n",
              "                        })                };                            </script>        </div>\n",
              "</body>\n",
              "</html>"
            ]
          },
          "metadata": {}
        }
      ]
    },
    {
      "cell_type": "code",
      "metadata": {
        "colab": {
          "base_uri": "https://localhost:8080/",
          "height": 542
        },
        "id": "zmNXDSryoX2U",
        "outputId": "ef54c98d-bdec-461b-87a1-57f258fe67bd"
      },
      "source": [
        "import pandas as pd\n",
        "import numpy as np\n",
        "import seaborn as sns\n",
        "import matplotlib.pyplot as plt\n",
        "import plotly.express as px\n",
        "np.set_printoptions(threshold=np.inf)\n",
        "banco = pd.read_csv('cmc.csv')\n",
        "grafico = px.treemap(banco, path=['3.1', '24'])\n",
        "grafico.show()"
      ],
      "execution_count": 47,
      "outputs": [
        {
          "output_type": "display_data",
          "data": {
            "text/html": [
              "<html>\n",
              "<head><meta charset=\"utf-8\" /></head>\n",
              "<body>\n",
              "    <div>            <script src=\"https://cdnjs.cloudflare.com/ajax/libs/mathjax/2.7.5/MathJax.js?config=TeX-AMS-MML_SVG\"></script><script type=\"text/javascript\">if (window.MathJax) {MathJax.Hub.Config({SVG: {font: \"STIX-Web\"}});}</script>                <script type=\"text/javascript\">window.PlotlyConfig = {MathJaxConfig: 'local'};</script>\n",
              "        <script src=\"https://cdn.plot.ly/plotly-2.4.2.min.js\"></script>                <div id=\"328ab749-9a31-4985-b168-d275cc3bb34a\" class=\"plotly-graph-div\" style=\"height:525px; width:100%;\"></div>            <script type=\"text/javascript\">                                    window.PLOTLYENV=window.PLOTLYENV || {};                                    if (document.getElementById(\"328ab749-9a31-4985-b168-d275cc3bb34a\")) {                    Plotly.newPlot(                        \"328ab749-9a31-4985-b168-d275cc3bb34a\",                        [{\"branchvalues\":\"total\",\"domain\":{\"x\":[0.0,1.0],\"y\":[0.0,1.0]},\"hovertemplate\":\"labels=%{label}<br>count=%{value}<br>parent=%{parent}<br>id=%{id}<extra></extra>\",\"ids\":[\"1/16\",\"0/17\",\"1/17\",\"3/17\",\"0/18\",\"1/18\",\"0/19\",\"1/19\",\"2/19\",\"3/19\",\"0/20\",\"1/20\",\"2/20\",\"3/20\",\"0/21\",\"1/21\",\"2/21\",\"3/21\",\"4/21\",\"0/22\",\"1/22\",\"2/22\",\"3/22\",\"4/22\",\"0/23\",\"1/23\",\"2/23\",\"3/23\",\"4/23\",\"6/23\",\"0/24\",\"1/24\",\"2/24\",\"3/24\",\"4/24\",\"5/24\",\"0/25\",\"1/25\",\"2/25\",\"3/25\",\"4/25\",\"5/25\",\"6/25\",\"0/26\",\"1/26\",\"2/26\",\"3/26\",\"4/26\",\"5/26\",\"0/27\",\"1/27\",\"2/27\",\"3/27\",\"4/27\",\"5/27\",\"0/28\",\"1/28\",\"2/28\",\"3/28\",\"4/28\",\"5/28\",\"6/28\",\"7/28\",\"0/29\",\"1/29\",\"2/29\",\"3/29\",\"4/29\",\"5/29\",\"6/29\",\"7/29\",\"0/30\",\"1/30\",\"2/30\",\"3/30\",\"4/30\",\"5/30\",\"6/30\",\"7/30\",\"0/31\",\"1/31\",\"2/31\",\"3/31\",\"4/31\",\"5/31\",\"6/31\",\"7/31\",\"8/31\",\"0/32\",\"1/32\",\"2/32\",\"3/32\",\"4/32\",\"5/32\",\"6/32\",\"7/32\",\"8/32\",\"0/33\",\"1/33\",\"2/33\",\"3/33\",\"4/33\",\"5/33\",\"6/33\",\"7/33\",\"8/33\",\"0/34\",\"1/34\",\"2/34\",\"3/34\",\"4/34\",\"5/34\",\"6/34\",\"7/34\",\"8/34\",\"9/34\",\"0/35\",\"1/35\",\"2/35\",\"3/35\",\"4/35\",\"5/35\",\"6/35\",\"7/35\",\"8/35\",\"9/35\",\"0/36\",\"1/36\",\"2/36\",\"3/36\",\"4/36\",\"5/36\",\"6/36\",\"7/36\",\"8/36\",\"9/36\",\"11/36\",\"0/37\",\"1/37\",\"2/37\",\"3/37\",\"4/37\",\"5/37\",\"6/37\",\"7/37\",\"8/37\",\"9/37\",\"11/37\",\"1/38\",\"2/38\",\"3/38\",\"4/38\",\"5/38\",\"6/38\",\"7/38\",\"8/38\",\"9/38\",\"10/38\",\"12/38\",\"1/39\",\"2/39\",\"3/39\",\"4/39\",\"5/39\",\"6/39\",\"8/39\",\"10/39\",\"0/40\",\"1/40\",\"2/40\",\"3/40\",\"4/40\",\"5/40\",\"6/40\",\"8/40\",\"1/41\",\"2/41\",\"3/41\",\"4/41\",\"5/41\",\"6/41\",\"7/41\",\"8/41\",\"9/41\",\"10/41\",\"11/41\",\"0/42\",\"1/42\",\"2/42\",\"3/42\",\"4/42\",\"5/42\",\"6/42\",\"7/42\",\"8/42\",\"9/42\",\"10/42\",\"11/42\",\"12/42\",\"1/43\",\"2/43\",\"3/43\",\"4/43\",\"5/43\",\"6/43\",\"7/43\",\"8/43\",\"10/43\",\"13/43\",\"0/44\",\"1/44\",\"2/44\",\"3/44\",\"4/44\",\"5/44\",\"6/44\",\"7/44\",\"8/44\",\"9/44\",\"11/44\",\"0/45\",\"1/45\",\"2/45\",\"3/45\",\"4/45\",\"5/45\",\"6/45\",\"7/45\",\"8/45\",\"9/45\",\"10/45\",\"11/45\",\"1/46\",\"2/46\",\"3/46\",\"4/46\",\"5/46\",\"6/46\",\"7/46\",\"8/46\",\"9/46\",\"10/46\",\"11/46\",\"0/47\",\"1/47\",\"2/47\",\"3/47\",\"4/47\",\"5/47\",\"6/47\",\"7/47\",\"8/47\",\"9/47\",\"10/47\",\"11/47\",\"12/47\",\"1/48\",\"2/48\",\"3/48\",\"4/48\",\"5/48\",\"6/48\",\"7/48\",\"8/48\",\"11/48\",\"16/48\",\"0/49\",\"1/49\",\"4/49\",\"5/49\",\"6/49\",\"7/49\",\"8/49\",\"9/49\",\"10/49\",\"11/49\",\"13/49\",\"0\",\"1\",\"2\",\"3\",\"4\",\"5\",\"6\",\"7\",\"8\",\"9\",\"10\",\"11\",\"12\",\"13\",\"16\"],\"labels\":[\"16\",\"17\",\"17\",\"17\",\"18\",\"18\",\"19\",\"19\",\"19\",\"19\",\"20\",\"20\",\"20\",\"20\",\"21\",\"21\",\"21\",\"21\",\"21\",\"22\",\"22\",\"22\",\"22\",\"22\",\"23\",\"23\",\"23\",\"23\",\"23\",\"23\",\"24\",\"24\",\"24\",\"24\",\"24\",\"24\",\"25\",\"25\",\"25\",\"25\",\"25\",\"25\",\"25\",\"26\",\"26\",\"26\",\"26\",\"26\",\"26\",\"27\",\"27\",\"27\",\"27\",\"27\",\"27\",\"28\",\"28\",\"28\",\"28\",\"28\",\"28\",\"28\",\"28\",\"29\",\"29\",\"29\",\"29\",\"29\",\"29\",\"29\",\"29\",\"30\",\"30\",\"30\",\"30\",\"30\",\"30\",\"30\",\"30\",\"31\",\"31\",\"31\",\"31\",\"31\",\"31\",\"31\",\"31\",\"31\",\"32\",\"32\",\"32\",\"32\",\"32\",\"32\",\"32\",\"32\",\"32\",\"33\",\"33\",\"33\",\"33\",\"33\",\"33\",\"33\",\"33\",\"33\",\"34\",\"34\",\"34\",\"34\",\"34\",\"34\",\"34\",\"34\",\"34\",\"34\",\"35\",\"35\",\"35\",\"35\",\"35\",\"35\",\"35\",\"35\",\"35\",\"35\",\"36\",\"36\",\"36\",\"36\",\"36\",\"36\",\"36\",\"36\",\"36\",\"36\",\"36\",\"37\",\"37\",\"37\",\"37\",\"37\",\"37\",\"37\",\"37\",\"37\",\"37\",\"37\",\"38\",\"38\",\"38\",\"38\",\"38\",\"38\",\"38\",\"38\",\"38\",\"38\",\"38\",\"39\",\"39\",\"39\",\"39\",\"39\",\"39\",\"39\",\"39\",\"40\",\"40\",\"40\",\"40\",\"40\",\"40\",\"40\",\"40\",\"41\",\"41\",\"41\",\"41\",\"41\",\"41\",\"41\",\"41\",\"41\",\"41\",\"41\",\"42\",\"42\",\"42\",\"42\",\"42\",\"42\",\"42\",\"42\",\"42\",\"42\",\"42\",\"42\",\"42\",\"43\",\"43\",\"43\",\"43\",\"43\",\"43\",\"43\",\"43\",\"43\",\"43\",\"44\",\"44\",\"44\",\"44\",\"44\",\"44\",\"44\",\"44\",\"44\",\"44\",\"44\",\"45\",\"45\",\"45\",\"45\",\"45\",\"45\",\"45\",\"45\",\"45\",\"45\",\"45\",\"45\",\"46\",\"46\",\"46\",\"46\",\"46\",\"46\",\"46\",\"46\",\"46\",\"46\",\"46\",\"47\",\"47\",\"47\",\"47\",\"47\",\"47\",\"47\",\"47\",\"47\",\"47\",\"47\",\"47\",\"47\",\"48\",\"48\",\"48\",\"48\",\"48\",\"48\",\"48\",\"48\",\"48\",\"48\",\"49\",\"49\",\"49\",\"49\",\"49\",\"49\",\"49\",\"49\",\"49\",\"49\",\"49\",\"0\",\"1\",\"2\",\"3\",\"4\",\"5\",\"6\",\"7\",\"8\",\"9\",\"10\",\"11\",\"12\",\"13\",\"16\"],\"name\":\"\",\"parents\":[\"1\",\"0\",\"1\",\"3\",\"0\",\"1\",\"0\",\"1\",\"2\",\"3\",\"0\",\"1\",\"2\",\"3\",\"0\",\"1\",\"2\",\"3\",\"4\",\"0\",\"1\",\"2\",\"3\",\"4\",\"0\",\"1\",\"2\",\"3\",\"4\",\"6\",\"0\",\"1\",\"2\",\"3\",\"4\",\"5\",\"0\",\"1\",\"2\",\"3\",\"4\",\"5\",\"6\",\"0\",\"1\",\"2\",\"3\",\"4\",\"5\",\"0\",\"1\",\"2\",\"3\",\"4\",\"5\",\"0\",\"1\",\"2\",\"3\",\"4\",\"5\",\"6\",\"7\",\"0\",\"1\",\"2\",\"3\",\"4\",\"5\",\"6\",\"7\",\"0\",\"1\",\"2\",\"3\",\"4\",\"5\",\"6\",\"7\",\"0\",\"1\",\"2\",\"3\",\"4\",\"5\",\"6\",\"7\",\"8\",\"0\",\"1\",\"2\",\"3\",\"4\",\"5\",\"6\",\"7\",\"8\",\"0\",\"1\",\"2\",\"3\",\"4\",\"5\",\"6\",\"7\",\"8\",\"0\",\"1\",\"2\",\"3\",\"4\",\"5\",\"6\",\"7\",\"8\",\"9\",\"0\",\"1\",\"2\",\"3\",\"4\",\"5\",\"6\",\"7\",\"8\",\"9\",\"0\",\"1\",\"2\",\"3\",\"4\",\"5\",\"6\",\"7\",\"8\",\"9\",\"11\",\"0\",\"1\",\"2\",\"3\",\"4\",\"5\",\"6\",\"7\",\"8\",\"9\",\"11\",\"1\",\"2\",\"3\",\"4\",\"5\",\"6\",\"7\",\"8\",\"9\",\"10\",\"12\",\"1\",\"2\",\"3\",\"4\",\"5\",\"6\",\"8\",\"10\",\"0\",\"1\",\"2\",\"3\",\"4\",\"5\",\"6\",\"8\",\"1\",\"2\",\"3\",\"4\",\"5\",\"6\",\"7\",\"8\",\"9\",\"10\",\"11\",\"0\",\"1\",\"2\",\"3\",\"4\",\"5\",\"6\",\"7\",\"8\",\"9\",\"10\",\"11\",\"12\",\"1\",\"2\",\"3\",\"4\",\"5\",\"6\",\"7\",\"8\",\"10\",\"13\",\"0\",\"1\",\"2\",\"3\",\"4\",\"5\",\"6\",\"7\",\"8\",\"9\",\"11\",\"0\",\"1\",\"2\",\"3\",\"4\",\"5\",\"6\",\"7\",\"8\",\"9\",\"10\",\"11\",\"1\",\"2\",\"3\",\"4\",\"5\",\"6\",\"7\",\"8\",\"9\",\"10\",\"11\",\"0\",\"1\",\"2\",\"3\",\"4\",\"5\",\"6\",\"7\",\"8\",\"9\",\"10\",\"11\",\"12\",\"1\",\"2\",\"3\",\"4\",\"5\",\"6\",\"7\",\"8\",\"11\",\"16\",\"0\",\"1\",\"4\",\"5\",\"6\",\"7\",\"8\",\"9\",\"10\",\"11\",\"13\",\"\",\"\",\"\",\"\",\"\",\"\",\"\",\"\",\"\",\"\",\"\",\"\",\"\",\"\",\"\"],\"type\":\"treemap\",\"values\":[3,1,6,1,1,6,4,10,3,1,5,13,8,2,9,28,6,4,1,14,21,18,5,1,3,16,17,5,2,1,4,22,19,8,5,2,7,28,21,18,4,1,1,5,17,20,20,6,1,3,18,12,11,10,5,7,14,15,11,6,8,1,1,6,8,12,16,10,5,1,1,4,7,15,13,13,5,2,5,3,4,11,12,8,4,2,1,1,2,6,12,10,20,8,3,2,1,2,2,12,15,7,10,3,2,2,1,1,12,10,12,2,7,2,2,1,3,3,8,9,10,13,11,1,2,2,1,1,7,17,11,5,8,3,2,1,1,2,3,6,11,9,7,5,4,2,1,1,4,7,6,7,5,7,3,2,1,1,1,5,6,8,4,6,3,1,1,1,3,5,7,5,3,6,4,3,1,4,7,9,3,2,2,1,1,1,1,4,2,7,5,5,3,3,3,2,2,1,2,1,5,5,2,9,4,1,5,1,1,1,4,4,5,7,6,3,3,2,2,2,4,7,3,8,3,2,4,4,3,1,1,1,1,1,2,5,3,3,1,2,2,1,1,1,4,7,2,9,5,3,5,3,1,1,1,1,2,1,5,5,3,2,4,6,1,1,2,1,3,3,6,1,2,1,2,1,1,97,276,276,258,197,135,92,49,47,16,11,11,4,2,1]}],                        {\"legend\":{\"tracegroupgap\":0},\"margin\":{\"t\":60},\"template\":{\"data\":{\"bar\":[{\"error_x\":{\"color\":\"#2a3f5f\"},\"error_y\":{\"color\":\"#2a3f5f\"},\"marker\":{\"line\":{\"color\":\"#E5ECF6\",\"width\":0.5},\"pattern\":{\"fillmode\":\"overlay\",\"size\":10,\"solidity\":0.2}},\"type\":\"bar\"}],\"barpolar\":[{\"marker\":{\"line\":{\"color\":\"#E5ECF6\",\"width\":0.5},\"pattern\":{\"fillmode\":\"overlay\",\"size\":10,\"solidity\":0.2}},\"type\":\"barpolar\"}],\"carpet\":[{\"aaxis\":{\"endlinecolor\":\"#2a3f5f\",\"gridcolor\":\"white\",\"linecolor\":\"white\",\"minorgridcolor\":\"white\",\"startlinecolor\":\"#2a3f5f\"},\"baxis\":{\"endlinecolor\":\"#2a3f5f\",\"gridcolor\":\"white\",\"linecolor\":\"white\",\"minorgridcolor\":\"white\",\"startlinecolor\":\"#2a3f5f\"},\"type\":\"carpet\"}],\"choropleth\":[{\"colorbar\":{\"outlinewidth\":0,\"ticks\":\"\"},\"type\":\"choropleth\"}],\"contour\":[{\"colorbar\":{\"outlinewidth\":0,\"ticks\":\"\"},\"colorscale\":[[0.0,\"#0d0887\"],[0.1111111111111111,\"#46039f\"],[0.2222222222222222,\"#7201a8\"],[0.3333333333333333,\"#9c179e\"],[0.4444444444444444,\"#bd3786\"],[0.5555555555555556,\"#d8576b\"],[0.6666666666666666,\"#ed7953\"],[0.7777777777777778,\"#fb9f3a\"],[0.8888888888888888,\"#fdca26\"],[1.0,\"#f0f921\"]],\"type\":\"contour\"}],\"contourcarpet\":[{\"colorbar\":{\"outlinewidth\":0,\"ticks\":\"\"},\"type\":\"contourcarpet\"}],\"heatmap\":[{\"colorbar\":{\"outlinewidth\":0,\"ticks\":\"\"},\"colorscale\":[[0.0,\"#0d0887\"],[0.1111111111111111,\"#46039f\"],[0.2222222222222222,\"#7201a8\"],[0.3333333333333333,\"#9c179e\"],[0.4444444444444444,\"#bd3786\"],[0.5555555555555556,\"#d8576b\"],[0.6666666666666666,\"#ed7953\"],[0.7777777777777778,\"#fb9f3a\"],[0.8888888888888888,\"#fdca26\"],[1.0,\"#f0f921\"]],\"type\":\"heatmap\"}],\"heatmapgl\":[{\"colorbar\":{\"outlinewidth\":0,\"ticks\":\"\"},\"colorscale\":[[0.0,\"#0d0887\"],[0.1111111111111111,\"#46039f\"],[0.2222222222222222,\"#7201a8\"],[0.3333333333333333,\"#9c179e\"],[0.4444444444444444,\"#bd3786\"],[0.5555555555555556,\"#d8576b\"],[0.6666666666666666,\"#ed7953\"],[0.7777777777777778,\"#fb9f3a\"],[0.8888888888888888,\"#fdca26\"],[1.0,\"#f0f921\"]],\"type\":\"heatmapgl\"}],\"histogram\":[{\"marker\":{\"pattern\":{\"fillmode\":\"overlay\",\"size\":10,\"solidity\":0.2}},\"type\":\"histogram\"}],\"histogram2d\":[{\"colorbar\":{\"outlinewidth\":0,\"ticks\":\"\"},\"colorscale\":[[0.0,\"#0d0887\"],[0.1111111111111111,\"#46039f\"],[0.2222222222222222,\"#7201a8\"],[0.3333333333333333,\"#9c179e\"],[0.4444444444444444,\"#bd3786\"],[0.5555555555555556,\"#d8576b\"],[0.6666666666666666,\"#ed7953\"],[0.7777777777777778,\"#fb9f3a\"],[0.8888888888888888,\"#fdca26\"],[1.0,\"#f0f921\"]],\"type\":\"histogram2d\"}],\"histogram2dcontour\":[{\"colorbar\":{\"outlinewidth\":0,\"ticks\":\"\"},\"colorscale\":[[0.0,\"#0d0887\"],[0.1111111111111111,\"#46039f\"],[0.2222222222222222,\"#7201a8\"],[0.3333333333333333,\"#9c179e\"],[0.4444444444444444,\"#bd3786\"],[0.5555555555555556,\"#d8576b\"],[0.6666666666666666,\"#ed7953\"],[0.7777777777777778,\"#fb9f3a\"],[0.8888888888888888,\"#fdca26\"],[1.0,\"#f0f921\"]],\"type\":\"histogram2dcontour\"}],\"mesh3d\":[{\"colorbar\":{\"outlinewidth\":0,\"ticks\":\"\"},\"type\":\"mesh3d\"}],\"parcoords\":[{\"line\":{\"colorbar\":{\"outlinewidth\":0,\"ticks\":\"\"}},\"type\":\"parcoords\"}],\"pie\":[{\"automargin\":true,\"type\":\"pie\"}],\"scatter\":[{\"marker\":{\"colorbar\":{\"outlinewidth\":0,\"ticks\":\"\"}},\"type\":\"scatter\"}],\"scatter3d\":[{\"line\":{\"colorbar\":{\"outlinewidth\":0,\"ticks\":\"\"}},\"marker\":{\"colorbar\":{\"outlinewidth\":0,\"ticks\":\"\"}},\"type\":\"scatter3d\"}],\"scattercarpet\":[{\"marker\":{\"colorbar\":{\"outlinewidth\":0,\"ticks\":\"\"}},\"type\":\"scattercarpet\"}],\"scattergeo\":[{\"marker\":{\"colorbar\":{\"outlinewidth\":0,\"ticks\":\"\"}},\"type\":\"scattergeo\"}],\"scattergl\":[{\"marker\":{\"colorbar\":{\"outlinewidth\":0,\"ticks\":\"\"}},\"type\":\"scattergl\"}],\"scattermapbox\":[{\"marker\":{\"colorbar\":{\"outlinewidth\":0,\"ticks\":\"\"}},\"type\":\"scattermapbox\"}],\"scatterpolar\":[{\"marker\":{\"colorbar\":{\"outlinewidth\":0,\"ticks\":\"\"}},\"type\":\"scatterpolar\"}],\"scatterpolargl\":[{\"marker\":{\"colorbar\":{\"outlinewidth\":0,\"ticks\":\"\"}},\"type\":\"scatterpolargl\"}],\"scatterternary\":[{\"marker\":{\"colorbar\":{\"outlinewidth\":0,\"ticks\":\"\"}},\"type\":\"scatterternary\"}],\"surface\":[{\"colorbar\":{\"outlinewidth\":0,\"ticks\":\"\"},\"colorscale\":[[0.0,\"#0d0887\"],[0.1111111111111111,\"#46039f\"],[0.2222222222222222,\"#7201a8\"],[0.3333333333333333,\"#9c179e\"],[0.4444444444444444,\"#bd3786\"],[0.5555555555555556,\"#d8576b\"],[0.6666666666666666,\"#ed7953\"],[0.7777777777777778,\"#fb9f3a\"],[0.8888888888888888,\"#fdca26\"],[1.0,\"#f0f921\"]],\"type\":\"surface\"}],\"table\":[{\"cells\":{\"fill\":{\"color\":\"#EBF0F8\"},\"line\":{\"color\":\"white\"}},\"header\":{\"fill\":{\"color\":\"#C8D4E3\"},\"line\":{\"color\":\"white\"}},\"type\":\"table\"}]},\"layout\":{\"annotationdefaults\":{\"arrowcolor\":\"#2a3f5f\",\"arrowhead\":0,\"arrowwidth\":1},\"autotypenumbers\":\"strict\",\"coloraxis\":{\"colorbar\":{\"outlinewidth\":0,\"ticks\":\"\"}},\"colorscale\":{\"diverging\":[[0,\"#8e0152\"],[0.1,\"#c51b7d\"],[0.2,\"#de77ae\"],[0.3,\"#f1b6da\"],[0.4,\"#fde0ef\"],[0.5,\"#f7f7f7\"],[0.6,\"#e6f5d0\"],[0.7,\"#b8e186\"],[0.8,\"#7fbc41\"],[0.9,\"#4d9221\"],[1,\"#276419\"]],\"sequential\":[[0.0,\"#0d0887\"],[0.1111111111111111,\"#46039f\"],[0.2222222222222222,\"#7201a8\"],[0.3333333333333333,\"#9c179e\"],[0.4444444444444444,\"#bd3786\"],[0.5555555555555556,\"#d8576b\"],[0.6666666666666666,\"#ed7953\"],[0.7777777777777778,\"#fb9f3a\"],[0.8888888888888888,\"#fdca26\"],[1.0,\"#f0f921\"]],\"sequentialminus\":[[0.0,\"#0d0887\"],[0.1111111111111111,\"#46039f\"],[0.2222222222222222,\"#7201a8\"],[0.3333333333333333,\"#9c179e\"],[0.4444444444444444,\"#bd3786\"],[0.5555555555555556,\"#d8576b\"],[0.6666666666666666,\"#ed7953\"],[0.7777777777777778,\"#fb9f3a\"],[0.8888888888888888,\"#fdca26\"],[1.0,\"#f0f921\"]]},\"colorway\":[\"#636efa\",\"#EF553B\",\"#00cc96\",\"#ab63fa\",\"#FFA15A\",\"#19d3f3\",\"#FF6692\",\"#B6E880\",\"#FF97FF\",\"#FECB52\"],\"font\":{\"color\":\"#2a3f5f\"},\"geo\":{\"bgcolor\":\"white\",\"lakecolor\":\"white\",\"landcolor\":\"#E5ECF6\",\"showlakes\":true,\"showland\":true,\"subunitcolor\":\"white\"},\"hoverlabel\":{\"align\":\"left\"},\"hovermode\":\"closest\",\"mapbox\":{\"style\":\"light\"},\"paper_bgcolor\":\"white\",\"plot_bgcolor\":\"#E5ECF6\",\"polar\":{\"angularaxis\":{\"gridcolor\":\"white\",\"linecolor\":\"white\",\"ticks\":\"\"},\"bgcolor\":\"#E5ECF6\",\"radialaxis\":{\"gridcolor\":\"white\",\"linecolor\":\"white\",\"ticks\":\"\"}},\"scene\":{\"xaxis\":{\"backgroundcolor\":\"#E5ECF6\",\"gridcolor\":\"white\",\"gridwidth\":2,\"linecolor\":\"white\",\"showbackground\":true,\"ticks\":\"\",\"zerolinecolor\":\"white\"},\"yaxis\":{\"backgroundcolor\":\"#E5ECF6\",\"gridcolor\":\"white\",\"gridwidth\":2,\"linecolor\":\"white\",\"showbackground\":true,\"ticks\":\"\",\"zerolinecolor\":\"white\"},\"zaxis\":{\"backgroundcolor\":\"#E5ECF6\",\"gridcolor\":\"white\",\"gridwidth\":2,\"linecolor\":\"white\",\"showbackground\":true,\"ticks\":\"\",\"zerolinecolor\":\"white\"}},\"shapedefaults\":{\"line\":{\"color\":\"#2a3f5f\"}},\"ternary\":{\"aaxis\":{\"gridcolor\":\"white\",\"linecolor\":\"white\",\"ticks\":\"\"},\"baxis\":{\"gridcolor\":\"white\",\"linecolor\":\"white\",\"ticks\":\"\"},\"bgcolor\":\"#E5ECF6\",\"caxis\":{\"gridcolor\":\"white\",\"linecolor\":\"white\",\"ticks\":\"\"}},\"title\":{\"x\":0.05},\"xaxis\":{\"automargin\":true,\"gridcolor\":\"white\",\"linecolor\":\"white\",\"ticks\":\"\",\"title\":{\"standoff\":15},\"zerolinecolor\":\"white\",\"zerolinewidth\":2},\"yaxis\":{\"automargin\":true,\"gridcolor\":\"white\",\"linecolor\":\"white\",\"ticks\":\"\",\"title\":{\"standoff\":15},\"zerolinecolor\":\"white\",\"zerolinewidth\":2}}}},                        {\"responsive\": true}                    ).then(function(){\n",
              "                            \n",
              "var gd = document.getElementById('328ab749-9a31-4985-b168-d275cc3bb34a');\n",
              "var x = new MutationObserver(function (mutations, observer) {{\n",
              "        var display = window.getComputedStyle(gd).display;\n",
              "        if (!display || display === 'none') {{\n",
              "            console.log([gd, 'removed!']);\n",
              "            Plotly.purge(gd);\n",
              "            observer.disconnect();\n",
              "        }}\n",
              "}});\n",
              "\n",
              "// Listen for the removal of the full notebook cells\n",
              "var notebookContainer = gd.closest('#notebook-container');\n",
              "if (notebookContainer) {{\n",
              "    x.observe(notebookContainer, {childList: true});\n",
              "}}\n",
              "\n",
              "// Listen for the clearing of the current output cell\n",
              "var outputEl = gd.closest('.output');\n",
              "if (outputEl) {{\n",
              "    x.observe(outputEl, {childList: true});\n",
              "}}\n",
              "\n",
              "                        })                };                            </script>        </div>\n",
              "</body>\n",
              "</html>"
            ]
          },
          "metadata": {}
        }
      ]
    },
    {
      "cell_type": "code",
      "metadata": {
        "id": "5rIpTirxKcp3"
      },
      "source": [
        "import pandas as pd\n",
        "import numpy as np\n",
        "import seaborn as sns\n",
        "import matplotlib.pyplot as plt\n",
        "import plotly.express as px\n",
        "np.set_printoptions(threshold=np.inf)\n",
        "banco = pd.read_csv('cmc.csv')\n",
        "banco.loc[banco['24'] < 0, '24'] = banco['24'][banco['24'] > 0].mean()\n",
        "banco['24'].fillna(banco['24'].mean(), inplace = True)\n",
        "banco2 = banco.iloc[:, 1:4].values\n",
        "banco3 = banco.iloc[:, 4].values\n",
        "from sklearn.preprocessing import StandardScaler\n",
        "scaler = StandardScaler()\n",
        "banco2 = scaler.fit_transform(banco2)\n",
        "from sklearn.model_selection import train_test_split\n",
        "banco2_treinamento, banco2_teste, banco3_treinamento, banco3_teste = train_test_split(banco2, banco3, test_size = 0.25, random_state = 0)\n",
        "import pickle\n",
        "with open('contra.pkl', mode = 'wb') as f: pickle.dump([banco2_treinamento, banco3_treinamento, banco2_teste, banco3_teste], f)"
      ],
      "execution_count": 78,
      "outputs": []
    },
    {
      "cell_type": "code",
      "metadata": {
        "colab": {
          "base_uri": "https://localhost:8080/"
        },
        "id": "4wK_IzW3LgSf",
        "outputId": "5ed19ba9-7b40-4381-a703-130ae92ae496"
      },
      "source": [
        "import pandas as pd\n",
        "import numpy as np\n",
        "import seaborn as sns\n",
        "import matplotlib.pyplot as plt\n",
        "import plotly.express as px\n",
        "np.set_printoptions(threshold=np.inf)\n",
        "banco = pd.read_csv('cmc.csv')\n",
        "banco.loc[banco['24'] < 0, '24'] = banco['24'][banco['24'] > 0].mean()\n",
        "banco['24'].fillna(banco['24'].mean(), inplace = True)\n",
        "banco2 = banco.iloc[:, 1:4].values\n",
        "banco3 = banco.iloc[:, 4].values\n",
        "from sklearn.preprocessing import StandardScaler\n",
        "scaler = StandardScaler()\n",
        "banco2 = scaler.fit_transform(banco2)\n",
        "from sklearn.model_selection import train_test_split\n",
        "banco2_treinamento, banco2_teste, banco3_treinamento, banco3_teste = train_test_split(banco2, banco3, test_size = 0.25, random_state = 0)\n",
        "print(banco2_treinamento.shape, banco3_treinamento.shape)\n",
        "print(banco2_teste.shape, banco3_teste.shape)\n"
      ],
      "execution_count": 79,
      "outputs": [
        {
          "output_type": "stream",
          "name": "stdout",
          "text": [
            "(1104, 3) (1104,)\n",
            "(368, 3) (368,)\n"
          ]
        }
      ]
    }
  ]
}